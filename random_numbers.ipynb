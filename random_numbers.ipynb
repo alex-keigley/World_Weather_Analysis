{
 "cells": [
  {
   "cell_type": "code",
   "execution_count": 26,
   "id": "8c9e7023-abd8-4d00-b982-8f235af37e5b",
   "metadata": {},
   "outputs": [],
   "source": [
    "# Import the random module.\n",
    "import random\n",
    "\n",
    "# Import the NumPy module.\n",
    "import numpy as np\n",
    "\n",
    "# Import timeit.\n",
    "import timeit"
   ]
  },
  {
   "cell_type": "code",
   "execution_count": 7,
   "id": "f58e36bf-d76e-4030-811b-061cdbb00212",
   "metadata": {},
   "outputs": [
    {
     "data": {
      "text/plain": [
       "-10"
      ]
     },
     "execution_count": 7,
     "metadata": {},
     "output_type": "execute_result"
    }
   ],
   "source": [
    "# Generate random integer in given range\n",
    "random.randint(-90, 90)"
   ]
  },
  {
   "cell_type": "code",
   "execution_count": 8,
   "id": "23f61f89-f286-412b-b91d-71a2575d191e",
   "metadata": {},
   "outputs": [
    {
     "data": {
      "text/plain": [
       "0.16328153070285745"
      ]
     },
     "execution_count": 8,
     "metadata": {},
     "output_type": "execute_result"
    }
   ],
   "source": [
    "# Generate random floating point between 0 and 1\n",
    "random.random()"
   ]
  },
  {
   "cell_type": "code",
   "execution_count": 11,
   "id": "6d3e57f5-a41c-4e28-8465-1afa0870588b",
   "metadata": {},
   "outputs": [
    {
     "data": {
      "text/plain": [
       "52.130530262767714"
      ]
     },
     "execution_count": 11,
     "metadata": {},
     "output_type": "execute_result"
    }
   ],
   "source": [
    "# Generate random number with floating point value\n",
    "random_number = random.randint(-90, 89) + random.random()\n",
    "random_number"
   ]
  },
  {
   "cell_type": "code",
   "execution_count": 12,
   "id": "15c13aac-b349-4a72-aabf-6c56eb362921",
   "metadata": {},
   "outputs": [],
   "source": [
    "x = 1\n",
    "latitudes = []\n",
    "while x < 11:\n",
    "    random_lat = random.randint(-90, 89) + random.random()\n",
    "    latitudes.append(random_lat)\n",
    "    x += 1"
   ]
  },
  {
   "cell_type": "code",
   "execution_count": 13,
   "id": "483054b2-f7a5-4f28-bd3f-ccfc0f69cb71",
   "metadata": {},
   "outputs": [
    {
     "data": {
      "text/plain": [
       "[-25.80727726191505,\n",
       " 59.94255009983428,\n",
       " 65.19568122550014,\n",
       " 49.247815210928756,\n",
       " 85.9543774878975,\n",
       " -68.99392000287985,\n",
       " 71.0338995517264,\n",
       " -17.582279865487646,\n",
       " 13.351803595066203,\n",
       " -39.194569915000315]"
      ]
     },
     "execution_count": 13,
     "metadata": {},
     "output_type": "execute_result"
    }
   ],
   "source": [
    "latitudes"
   ]
  },
  {
   "cell_type": "code",
   "execution_count": 20,
   "id": "1b2691c5-adfe-4d9a-aa3a-d0cee898a72c",
   "metadata": {},
   "outputs": [
    {
     "data": {
      "text/plain": [
       "10"
      ]
     },
     "execution_count": 20,
     "metadata": {},
     "output_type": "execute_result"
    }
   ],
   "source": [
    "# Random number in range with given step\n",
    "random.randrange(-90, 90, step=10)"
   ]
  },
  {
   "cell_type": "code",
   "execution_count": 21,
   "id": "38d6656d-4f5e-4d19-94ea-b0aae8c4252e",
   "metadata": {},
   "outputs": [
    {
     "data": {
      "text/plain": [
       "60.67344812726884"
      ]
     },
     "execution_count": 21,
     "metadata": {},
     "output_type": "execute_result"
    }
   ],
   "source": [
    "# Random floating point number in range\n",
    "random.uniform(-90, 90)"
   ]
  },
  {
   "cell_type": "code",
   "execution_count": 30,
   "id": "19b0e98f-4b25-4585-bb99-ffe8ca374181",
   "metadata": {},
   "outputs": [
    {
     "name": "stdout",
     "output_type": "stream",
     "text": [
      "33.4 µs ± 390 ns per loop (mean ± std. dev. of 7 runs, 10000 loops each)\n"
     ]
    }
   ],
   "source": [
    "# Generate array of random floating points, length dictated by size.\n",
    "%timeit np.random.uniform(-90.000, 90.000, size=1500)"
   ]
  },
  {
   "cell_type": "code",
   "execution_count": 32,
   "id": "e3f012f3-001c-49b8-a974-e64a26a96ac6",
   "metadata": {},
   "outputs": [
    {
     "name": "stdout",
     "output_type": "stream",
     "text": [
      "5.08 ms ± 140 µs per loop (mean ± std. dev. of 7 runs, 100 loops each)\n"
     ]
    }
   ],
   "source": [
    "# Comparing one line method to for loop method\n",
    "def latitudes(size):\n",
    "    latitudes = []\n",
    "    x = 0\n",
    "    while x < (size):\n",
    "        random_lat = random.randint(-90, 90) + random.random()\n",
    "        latitudes.append(random_lat)\n",
    "        x += 1\n",
    "    return latitudes\n",
    "\n",
    "# Call the function with 1500.\n",
    "%timeit latitudes(1500)"
   ]
  },
  {
   "cell_type": "code",
   "execution_count": 37,
   "id": "b7829832-1a16-4ee7-a898-6efcca5376f8",
   "metadata": {},
   "outputs": [
    {
     "data": {
      "text/plain": [
       "array([ 26.56351805, -87.39051207, -25.6093759 , ...,  56.05271006,\n",
       "       -21.91900619, -19.74875569])"
      ]
     },
     "execution_count": 37,
     "metadata": {},
     "output_type": "execute_result"
    }
   ],
   "source": [
    "# Skill drill - Remake latitudes fun\n",
    "def latitudes(size):\n",
    "    latitudes = np.random.uniform(-90.000, 90.000, size=size)\n",
    "    return latitudes\n",
    "\n",
    "latitudes(1500)"
   ]
  },
  {
   "cell_type": "code",
   "execution_count": null,
   "id": "675c46af-a7a3-4018-a1ac-c0aea9603ac2",
   "metadata": {},
   "outputs": [],
   "source": []
  }
 ],
 "metadata": {
  "kernelspec": {
   "display_name": "Python 3",
   "language": "python",
   "name": "python3"
  },
  "language_info": {
   "codemirror_mode": {
    "name": "ipython",
    "version": 3
   },
   "file_extension": ".py",
   "mimetype": "text/x-python",
   "name": "python",
   "nbconvert_exporter": "python",
   "pygments_lexer": "ipython3",
   "version": "3.8.8"
  }
 },
 "nbformat": 4,
 "nbformat_minor": 5
}
